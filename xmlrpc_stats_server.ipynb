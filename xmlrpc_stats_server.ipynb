{
 "cells": [
  {
   "cell_type": "markdown",
   "metadata": {},
   "source": [
    "#### Файл сервера xmlrpc_stats_server_p3.ipynb на Python 3 "
   ]
  },
  {
   "cell_type": "code",
   "execution_count": null,
   "metadata": {
    "scrolled": true
   },
   "outputs": [
    {
     "name": "stdout",
     "output_type": "stream",
     "text": [
      "Listening on port 8018...\n"
     ]
    },
    {
     "name": "stderr",
     "output_type": "stream",
     "text": [
      "127.0.0.1 - - [26/Sep/2023 14:24:24] \"POST /RPC2 HTTP/1.1\" 200 -\n",
      "127.0.0.1 - - [26/Sep/2023 14:24:29] \"POST /RPC2 HTTP/1.1\" 200 -\n",
      "127.0.0.1 - - [26/Sep/2023 14:24:33] \"POST /RPC2 HTTP/1.1\" 200 -\n",
      "127.0.0.1 - - [26/Sep/2023 14:24:37] \"POST /RPC2 HTTP/1.1\" 200 -\n",
      "127.0.0.1 - - [26/Sep/2023 14:24:41] \"POST /RPC2 HTTP/1.1\" 200 -\n",
      "127.0.0.1 - - [26/Sep/2023 14:24:45] \"POST /RPC2 HTTP/1.1\" 200 -\n",
      "127.0.0.1 - - [26/Sep/2023 14:24:49] \"POST /RPC2 HTTP/1.1\" 200 -\n",
      "127.0.0.1 - - [26/Sep/2023 14:24:53] \"POST /RPC2 HTTP/1.1\" 200 -\n",
      "127.0.0.1 - - [26/Sep/2023 14:24:57] \"POST /RPC2 HTTP/1.1\" 200 -\n",
      "127.0.0.1 - - [26/Sep/2023 14:25:01] \"POST /RPC2 HTTP/1.1\" 200 -\n",
      "127.0.0.1 - - [26/Sep/2023 14:25:05] \"POST /RPC2 HTTP/1.1\" 200 -\n"
     ]
    }
   ],
   "source": [
    "\n",
    "from xmlrpc.server import SimpleXMLRPCServer\n",
    "from xmlrpc.server import SimpleXMLRPCRequestHandler\n",
    "\n",
    "import datetime\n",
    "import os\n",
    "import pandas as pd\n",
    "\n",
    "class RequestHandler(SimpleXMLRPCRequestHandler):\n",
    "    rpc_paths = ('/RPC2',)\n",
    "\n",
    "server = SimpleXMLRPCServer((\"localhost\", 8018), \n",
    "                            requestHandler=RequestHandler)\n",
    "\n",
    "# Добавление строки в лог\n",
    "def add_log(sname):\n",
    "    #f = open('log.csv','a+')\n",
    "    count_lines = len(pd.read_csv('log.csv'))\n",
    "    count = 20\n",
    "    if(count_lines>count):\n",
    "        name = 'log_' + datetime.datetime.now().strftime(\"%Y%m%d_%H%M%S\")+'.csv'\n",
    "        os.rename('log.csv', name)\n",
    "        f = open('log.csv','w')\n",
    "    else:\n",
    "        f = open('log.csv','a')\n",
    "    f.write(str(sname)+','+ datetime.datetime.now().strftime(\"%Y-%m-%d %H:%M:%S\") +'\\n')\n",
    "    f.close()\n",
    "    return True\n",
    "\n",
    "server.register_function(add_log, 'add_log')\n",
    "\n",
    "\n",
    "print (\"Listening on port 8018...\")\n",
    "server.serve_forever()\n"
   ]
  },
  {
   "cell_type": "code",
   "execution_count": null,
   "metadata": {},
   "outputs": [],
   "source": []
  }
 ],
 "metadata": {
  "kernelspec": {
   "display_name": "Python 3 (ipykernel)",
   "language": "python",
   "name": "python3"
  },
  "language_info": {
   "codemirror_mode": {
    "name": "ipython",
    "version": 3
   },
   "file_extension": ".py",
   "mimetype": "text/x-python",
   "name": "python",
   "nbconvert_exporter": "python",
   "pygments_lexer": "ipython3",
   "version": "3.11.4"
  }
 },
 "nbformat": 4,
 "nbformat_minor": 2
}
